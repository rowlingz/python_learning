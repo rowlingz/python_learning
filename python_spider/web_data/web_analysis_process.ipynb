{
 "cells": [
  {
   "cell_type": "code",
   "execution_count": 1,
   "metadata": {},
   "outputs": [],
   "source": [
    "import requests\n",
    "from bs4 import BeautifulSoup\n",
    "\n",
    "def visit_web(url):\n",
    "    \"\"\"获取网页\"\"\"\n",
    "    headers = {'user-agent': 'Mozilla/5.0 (Windows NT 10.0; Win64; x64) '\n",
    "                             'AppleWebKit/537.36 (KHTML, like Gecko) '\n",
    "                             'Chrome/66.0.3359.139 Safari/537.36',\n",
    "               }\n",
    "    bf = None\n",
    "    try:\n",
    "        response = requests.get(url, headers=headers)\n",
    "        if response.status_code == 200:\n",
    "            response.encoding = 'utf-8'\n",
    "            html = response.text\n",
    "            bf = BeautifulSoup(html, \"html.parser\")\n",
    "    except requests.ConnectionError as e:\n",
    "        print(e)\n",
    "    return bf\n",
    "\n",
    "url = 'https://hangzhou.anjuke.com/sale/xiaoshan/p1/#filtersort'\n",
    "bf = visit_web(url)"
   ]
  },
  {
   "cell_type": "code",
   "execution_count": 2,
   "metadata": {},
   "outputs": [],
   "source": [
    "house_mod = bf.find('ul', id='houselist-mod-new')\n",
    "house_list = house_mod.find_all('li', class_=\"list-item\")"
   ]
  },
  {
   "cell_type": "code",
   "execution_count": 6,
   "metadata": {},
   "outputs": [
    {
     "data": {
      "text/plain": [
       "'城北新村  旺角旁双金山 南北通全明户型，业主置换诚心出售'"
      ]
     },
     "execution_count": 6,
     "metadata": {},
     "output_type": "execute_result"
    }
   ],
   "source": [
    "house = house_list[0]\n",
    "title = house.find('a').get('title')\n",
    "title"
   ]
  },
  {
   "cell_type": "code",
   "execution_count": 8,
   "metadata": {},
   "outputs": [
    {
     "data": {
      "text/plain": [
       "'https://hangzhou.anjuke.com/prop/view/A1298902406?from=filter&spread=commsearch&invalid=1&position=1&kwtype=filter&now_time=1530974716'"
      ]
     },
     "execution_count": 8,
     "metadata": {},
     "output_type": "execute_result"
    }
   ],
   "source": [
    "title_url = house.find('a').get('href')\n",
    "title_url"
   ]
  },
  {
   "cell_type": "code",
   "execution_count": 10,
   "metadata": {},
   "outputs": [
    {
     "data": {
      "text/plain": [
       "'安选验真'"
      ]
     },
     "execution_count": 10,
     "metadata": {},
     "output_type": "execute_result"
    }
   ],
   "source": [
    "icon_tag = house.find('em', class_='guarantee_icon1')\n",
    "icon_zt = house.find('i',class_='icon-tag icon-zt')\n",
    "icon_tag.string"
   ]
  },
  {
   "cell_type": "code",
   "execution_count": 14,
   "metadata": {},
   "outputs": [
    {
     "name": "stdout",
     "output_type": "stream",
     "text": [
      "2\n"
     ]
    }
   ],
   "source": [
    "if icon_zt is None:\n",
    "    print('2')\n",
    "else:\n",
    "    print('1')"
   ]
  },
  {
   "cell_type": "code",
   "execution_count": 20,
   "metadata": {},
   "outputs": [],
   "source": [
    "house_detail = house.find_all('div', class_='details-item')\n",
    "message = house_detail[0].find_all('span')\n",
    "message_list = [i.get_text() for i in message]\n",
    "\n",
    "address = house_detail[1].find('span', class_='comm-address').get('title')"
   ]
  },
  {
   "cell_type": "code",
   "execution_count": 21,
   "metadata": {},
   "outputs": [
    {
     "data": {
      "text/plain": [
       "['2室1厅', '57m²', '中层(共6层)', '1992年建造', '\\ue147曹灿平']"
      ]
     },
     "execution_count": 21,
     "metadata": {},
     "output_type": "execute_result"
    }
   ],
   "source": [
    "message_list"
   ]
  },
  {
   "cell_type": "code",
   "execution_count": 22,
   "metadata": {},
   "outputs": [
    {
     "data": {
      "text/plain": [
       "'城北新村\\xa0\\xa0萧山-萧山市区-金惠路,近萧杭路'"
      ]
     },
     "execution_count": 22,
     "metadata": {},
     "output_type": "execute_result"
    }
   ],
   "source": [
    "address"
   ]
  },
  {
   "cell_type": "code",
   "execution_count": 23,
   "metadata": {},
   "outputs": [
    {
     "data": {
      "text/plain": [
       "['南北通透']"
      ]
     },
     "execution_count": 23,
     "metadata": {},
     "output_type": "execute_result"
    }
   ],
   "source": [
    "tags = house.find('div', class_='tags-bottom')\n",
    "if tags:\n",
    "    tags_list = [i.string for i in tags.find_all('span')]\n",
    "\n",
    "tags_list"
   ]
  },
  {
   "cell_type": "code",
   "execution_count": 24,
   "metadata": {},
   "outputs": [],
   "source": [
    "price_det = house.find('span', class_='price-det').get_text()\n",
    "price_unit = house.find('span', class_='unit-price').string"
   ]
  },
  {
   "cell_type": "code",
   "execution_count": 25,
   "metadata": {},
   "outputs": [
    {
     "data": {
      "text/plain": [
       "'180万'"
      ]
     },
     "execution_count": 25,
     "metadata": {},
     "output_type": "execute_result"
    }
   ],
   "source": [
    "price_det"
   ]
  },
  {
   "cell_type": "code",
   "execution_count": 26,
   "metadata": {},
   "outputs": [
    {
     "data": {
      "text/plain": [
       "'31250元/m²'"
      ]
     },
     "execution_count": 26,
     "metadata": {},
     "output_type": "execute_result"
    }
   ],
   "source": [
    "price_unit"
   ]
  },
  {
   "cell_type": "code",
   "execution_count": 27,
   "metadata": {},
   "outputs": [],
   "source": [
    "result = [title, title_url, icon_tag, icon_zt, message_list, address, tags_list, price_det, price_unit]"
   ]
  },
  {
   "cell_type": "code",
   "execution_count": 28,
   "metadata": {},
   "outputs": [
    {
     "data": {
      "text/plain": [
       "['城北新村  旺角旁双金山 南北通全明户型，业主置换诚心出售',\n",
       " 'https://hangzhou.anjuke.com/prop/view/A1298902406?from=filter&spread=commsearch&invalid=1&position=1&kwtype=filter&now_time=1530974716',\n",
       " <em class=\"guarantee_icon1\" title=\"该房源已现金担保，保证房源真实，保证可带看\">安选验真</em>,\n",
       " None,\n",
       " ['2室1厅', '57m²', '中层(共6层)', '1992年建造', '\\ue147曹灿平'],\n",
       " '城北新村\\xa0\\xa0萧山-萧山市区-金惠路,近萧杭路',\n",
       " ['南北通透'],\n",
       " '180万',\n",
       " '31250元/m²']"
      ]
     },
     "execution_count": 28,
     "metadata": {},
     "output_type": "execute_result"
    }
   ],
   "source": [
    "result"
   ]
  },
  {
   "cell_type": "code",
   "execution_count": 29,
   "metadata": {},
   "outputs": [],
   "source": [
    "icon_tag = house.find('em', class_='guarantee_icon1')\n",
    "icon_zt = house.find('i',class_='icon-tag icon-zt')\n",
    "if icon_tag:\n",
    "    icon_tag = icon_tag.string\n",
    "if icon_zt:\n",
    "    icon_zt = icon_zt.string"
   ]
  },
  {
   "cell_type": "code",
   "execution_count": 31,
   "metadata": {},
   "outputs": [
    {
     "data": {
      "text/plain": [
       "'安选验真'"
      ]
     },
     "execution_count": 31,
     "metadata": {},
     "output_type": "execute_result"
    }
   ],
   "source": [
    "icon_tag = house.find('em', class_='guarantee_icon1')\n",
    "icon_tag.get_text()"
   ]
  },
  {
   "cell_type": "code",
   "execution_count": 32,
   "metadata": {},
   "outputs": [
    {
     "data": {
      "text/plain": [
       "['城北新村  旺角旁双金山 南北通全明户型，业主置换诚心出售',\n",
       " 'https://hangzhou.anjuke.com/prop/view/A1298902406?from=filter&spread=commsearch&invalid=1&position=1&kwtype=filter&now_time=1530974716',\n",
       " <em class=\"guarantee_icon1\" title=\"该房源已现金担保，保证房源真实，保证可带看\">安选验真</em>,\n",
       " None,\n",
       " ['2室1厅', '57m²', '中层(共6层)', '1992年建造', '\\ue147曹灿平'],\n",
       " '城北新村\\xa0\\xa0萧山-萧山市区-金惠路,近萧杭路',\n",
       " ['南北通透'],\n",
       " '180万',\n",
       " '31250元/m²']"
      ]
     },
     "execution_count": 32,
     "metadata": {},
     "output_type": "execute_result"
    }
   ],
   "source": [
    "result = [title, title_url, icon_tag, icon_zt, message_list, address, tags_list, price_det, price_unit]\n",
    "result"
   ]
  },
  {
   "cell_type": "code",
   "execution_count": 35,
   "metadata": {},
   "outputs": [
    {
     "data": {
      "text/plain": [
       "'安选验真'"
      ]
     },
     "execution_count": 35,
     "metadata": {},
     "output_type": "execute_result"
    }
   ],
   "source": [
    "icon_tag = icon_tag.string\n",
    "icon_tag"
   ]
  },
  {
   "cell_type": "code",
   "execution_count": 36,
   "metadata": {},
   "outputs": [
    {
     "data": {
      "text/plain": [
       "['城北新村  旺角旁双金山 南北通全明户型，业主置换诚心出售',\n",
       " 'https://hangzhou.anjuke.com/prop/view/A1298902406?from=filter&spread=commsearch&invalid=1&position=1&kwtype=filter&now_time=1530974716',\n",
       " '安选验真',\n",
       " None,\n",
       " ['2室1厅', '57m²', '中层(共6层)', '1992年建造', '\\ue147曹灿平'],\n",
       " '城北新村\\xa0\\xa0萧山-萧山市区-金惠路,近萧杭路',\n",
       " ['南北通透'],\n",
       " '180万',\n",
       " '31250元/m²']"
      ]
     },
     "execution_count": 36,
     "metadata": {},
     "output_type": "execute_result"
    }
   ],
   "source": [
    "result = [title, title_url, icon_tag, icon_zt, message_list, address, tags_list, price_det, price_unit]\n",
    "result"
   ]
  },
  {
   "cell_type": "code",
   "execution_count": 37,
   "metadata": {},
   "outputs": [
    {
     "data": {
      "text/html": [
       "<div>\n",
       "<style scoped>\n",
       "    .dataframe tbody tr th:only-of-type {\n",
       "        vertical-align: middle;\n",
       "    }\n",
       "\n",
       "    .dataframe tbody tr th {\n",
       "        vertical-align: top;\n",
       "    }\n",
       "\n",
       "    .dataframe thead th {\n",
       "        text-align: right;\n",
       "    }\n",
       "</style>\n",
       "<table border=\"1\" class=\"dataframe\">\n",
       "  <thead>\n",
       "    <tr style=\"text-align: right;\">\n",
       "      <th></th>\n",
       "      <th>0</th>\n",
       "    </tr>\n",
       "  </thead>\n",
       "  <tbody>\n",
       "    <tr>\n",
       "      <th>0</th>\n",
       "      <td>城北新村  旺角旁双金山 南北通全明户型，业主置换诚心出售</td>\n",
       "    </tr>\n",
       "    <tr>\n",
       "      <th>1</th>\n",
       "      <td>https://hangzhou.anjuke.com/prop/view/A1298902...</td>\n",
       "    </tr>\n",
       "    <tr>\n",
       "      <th>2</th>\n",
       "      <td>安选验真</td>\n",
       "    </tr>\n",
       "    <tr>\n",
       "      <th>3</th>\n",
       "      <td>None</td>\n",
       "    </tr>\n",
       "    <tr>\n",
       "      <th>4</th>\n",
       "      <td>[2室1厅, 57m², 中层(共6层), 1992年建造, 曹灿平]</td>\n",
       "    </tr>\n",
       "    <tr>\n",
       "      <th>5</th>\n",
       "      <td>城北新村  萧山-萧山市区-金惠路,近萧杭路</td>\n",
       "    </tr>\n",
       "    <tr>\n",
       "      <th>6</th>\n",
       "      <td>[南北通透]</td>\n",
       "    </tr>\n",
       "    <tr>\n",
       "      <th>7</th>\n",
       "      <td>180万</td>\n",
       "    </tr>\n",
       "    <tr>\n",
       "      <th>8</th>\n",
       "      <td>31250元/m²</td>\n",
       "    </tr>\n",
       "  </tbody>\n",
       "</table>\n",
       "</div>"
      ],
      "text/plain": [
       "                                                   0\n",
       "0                      城北新村  旺角旁双金山 南北通全明户型，业主置换诚心出售\n",
       "1  https://hangzhou.anjuke.com/prop/view/A1298902...\n",
       "2                                               安选验真\n",
       "3                                               None\n",
       "4               [2室1厅, 57m², 中层(共6层), 1992年建造, 曹灿平]\n",
       "5                             城北新村  萧山-萧山市区-金惠路,近萧杭路\n",
       "6                                             [南北通透]\n",
       "7                                               180万\n",
       "8                                          31250元/m²"
      ]
     },
     "execution_count": 37,
     "metadata": {},
     "output_type": "execute_result"
    }
   ],
   "source": [
    "import pandas as pd \n",
    "\n",
    "results = pd.DataFrame(result)\n",
    "results"
   ]
  },
  {
   "cell_type": "code",
   "execution_count": 42,
   "metadata": {},
   "outputs": [
    {
     "data": {
      "text/plain": [
       "['城北新村  旺角旁双金山 南北通全明户型，业主置换诚心出售',\n",
       " 'https://hangzhou.anjuke.com/prop/view/A1298902406?from=filter&spread=commsearch&invalid=1&position=1&kwtype=filter&now_time=1530974716',\n",
       " '安选验真',\n",
       " None,\n",
       " ['2室1厅', '57m²', '中层(共6层)', '1992年建造', '\\ue147曹灿平'],\n",
       " '城北新村\\xa0\\xa0萧山-萧山市区-金惠路,近萧杭路',\n",
       " ['南北通透'],\n",
       " '180万',\n",
       " '31250元/m²',\n",
       " '城北新村  旺角旁双金山 南北通全明户型，业主置换诚心出售',\n",
       " 'https://hangzhou.anjuke.com/prop/view/A1298902406?from=filter&spread=commsearch&invalid=1&position=1&kwtype=filter&now_time=1530974716',\n",
       " '安选验真',\n",
       " None,\n",
       " ['2室1厅', '57m²', '中层(共6层)', '1992年建造', '\\ue147曹灿平'],\n",
       " '城北新村\\xa0\\xa0萧山-萧山市区-金惠路,近萧杭路',\n",
       " ['南北通透'],\n",
       " '180万',\n",
       " '31250元/m²']"
      ]
     },
     "execution_count": 42,
     "metadata": {},
     "output_type": "execute_result"
    }
   ],
   "source": [
    "result"
   ]
  },
  {
   "cell_type": "code",
   "execution_count": 43,
   "metadata": {},
   "outputs": [
    {
     "data": {
      "text/plain": [
       "[['城北新村  旺角旁双金山 南北通全明户型，业主置换诚心出售',\n",
       "  'https://hangzhou.anjuke.com/prop/view/A1298902406?from=filter&spread=commsearch&invalid=1&position=1&kwtype=filter&now_time=1530974716',\n",
       "  '安选验真',\n",
       "  None,\n",
       "  ['2室1厅', '57m²', '中层(共6层)', '1992年建造', '\\ue147曹灿平'],\n",
       "  '城北新村\\xa0\\xa0萧山-萧山市区-金惠路,近萧杭路',\n",
       "  ['南北通透'],\n",
       "  '180万',\n",
       "  '31250元/m²',\n",
       "  '城北新村  旺角旁双金山 南北通全明户型，业主置换诚心出售',\n",
       "  'https://hangzhou.anjuke.com/prop/view/A1298902406?from=filter&spread=commsearch&invalid=1&position=1&kwtype=filter&now_time=1530974716',\n",
       "  '安选验真',\n",
       "  None,\n",
       "  ['2室1厅', '57m²', '中层(共6层)', '1992年建造', '\\ue147曹灿平'],\n",
       "  '城北新村\\xa0\\xa0萧山-萧山市区-金惠路,近萧杭路',\n",
       "  ['南北通透'],\n",
       "  '180万',\n",
       "  '31250元/m²'],\n",
       " ['城北新村  旺角旁双金山 南北通全明户型，业主置换诚心出售',\n",
       "  'https://hangzhou.anjuke.com/prop/view/A1298902406?from=filter&spread=commsearch&invalid=1&position=1&kwtype=filter&now_time=1530974716',\n",
       "  '安选验真',\n",
       "  None,\n",
       "  ['2室1厅', '57m²', '中层(共6层)', '1992年建造', '\\ue147曹灿平'],\n",
       "  '城北新村\\xa0\\xa0萧山-萧山市区-金惠路,近萧杭路',\n",
       "  ['南北通透'],\n",
       "  '180万',\n",
       "  '31250元/m²',\n",
       "  '城北新村  旺角旁双金山 南北通全明户型，业主置换诚心出售',\n",
       "  'https://hangzhou.anjuke.com/prop/view/A1298902406?from=filter&spread=commsearch&invalid=1&position=1&kwtype=filter&now_time=1530974716',\n",
       "  '安选验真',\n",
       "  None,\n",
       "  ['2室1厅', '57m²', '中层(共6层)', '1992年建造', '\\ue147曹灿平'],\n",
       "  '城北新村\\xa0\\xa0萧山-萧山市区-金惠路,近萧杭路',\n",
       "  ['南北通透'],\n",
       "  '180万',\n",
       "  '31250元/m²']]"
      ]
     },
     "execution_count": 43,
     "metadata": {},
     "output_type": "execute_result"
    }
   ],
   "source": [
    "[result, result]"
   ]
  },
  {
   "cell_type": "code",
   "execution_count": 52,
   "metadata": {},
   "outputs": [
    {
     "data": {
      "text/plain": [
       "RangeIndex(start=0, stop=18, step=1)"
      ]
     },
     "execution_count": 52,
     "metadata": {},
     "output_type": "execute_result"
    }
   ],
   "source": [
    "s = pd.DataFrame([result, result])\n",
    "s.columns"
   ]
  },
  {
   "cell_type": "code",
   "execution_count": 55,
   "metadata": {},
   "outputs": [
    {
     "data": {
      "text/plain": [
       "18"
      ]
     },
     "execution_count": 55,
     "metadata": {},
     "output_type": "execute_result"
    }
   ],
   "source": [
    "len(result)"
   ]
  },
  {
   "cell_type": "code",
   "execution_count": 56,
   "metadata": {},
   "outputs": [
    {
     "data": {
      "text/plain": [
       "9"
      ]
     },
     "execution_count": 56,
     "metadata": {},
     "output_type": "execute_result"
    }
   ],
   "source": [
    "result = [title, title_url, icon_tag, icon_zt, message_list, address, tags_list, price_det, price_unit]\n",
    "len(result)"
   ]
  },
  {
   "cell_type": "code",
   "execution_count": 57,
   "metadata": {},
   "outputs": [
    {
     "data": {
      "text/html": [
       "<div>\n",
       "<style scoped>\n",
       "    .dataframe tbody tr th:only-of-type {\n",
       "        vertical-align: middle;\n",
       "    }\n",
       "\n",
       "    .dataframe tbody tr th {\n",
       "        vertical-align: top;\n",
       "    }\n",
       "\n",
       "    .dataframe thead th {\n",
       "        text-align: right;\n",
       "    }\n",
       "</style>\n",
       "<table border=\"1\" class=\"dataframe\">\n",
       "  <thead>\n",
       "    <tr style=\"text-align: right;\">\n",
       "      <th></th>\n",
       "      <th>title</th>\n",
       "      <th>title_url</th>\n",
       "      <th>icon_tag</th>\n",
       "      <th>icon_zt</th>\n",
       "      <th>message_list</th>\n",
       "      <th>address</th>\n",
       "      <th>tags</th>\n",
       "      <th>price_det</th>\n",
       "      <th>price_unit</th>\n",
       "    </tr>\n",
       "  </thead>\n",
       "  <tbody>\n",
       "    <tr>\n",
       "      <th>0</th>\n",
       "      <td>城北新村  旺角旁双金山 南北通全明户型，业主置换诚心出售</td>\n",
       "      <td>https://hangzhou.anjuke.com/prop/view/A1298902...</td>\n",
       "      <td>安选验真</td>\n",
       "      <td>None</td>\n",
       "      <td>[2室1厅, 57m², 中层(共6层), 1992年建造, 曹灿平]</td>\n",
       "      <td>城北新村  萧山-萧山市区-金惠路,近萧杭路</td>\n",
       "      <td>[南北通透]</td>\n",
       "      <td>180万</td>\n",
       "      <td>31250元/m²</td>\n",
       "    </tr>\n",
       "    <tr>\n",
       "      <th>1</th>\n",
       "      <td>城北新村  旺角旁双金山 南北通全明户型，业主置换诚心出售</td>\n",
       "      <td>https://hangzhou.anjuke.com/prop/view/A1298902...</td>\n",
       "      <td>安选验真</td>\n",
       "      <td>None</td>\n",
       "      <td>[2室1厅, 57m², 中层(共6层), 1992年建造, 曹灿平]</td>\n",
       "      <td>城北新村  萧山-萧山市区-金惠路,近萧杭路</td>\n",
       "      <td>[南北通透]</td>\n",
       "      <td>180万</td>\n",
       "      <td>31250元/m²</td>\n",
       "    </tr>\n",
       "  </tbody>\n",
       "</table>\n",
       "</div>"
      ],
      "text/plain": [
       "                           title  \\\n",
       "0  城北新村  旺角旁双金山 南北通全明户型，业主置换诚心出售   \n",
       "1  城北新村  旺角旁双金山 南北通全明户型，业主置换诚心出售   \n",
       "\n",
       "                                           title_url icon_tag icon_zt  \\\n",
       "0  https://hangzhou.anjuke.com/prop/view/A1298902...     安选验真    None   \n",
       "1  https://hangzhou.anjuke.com/prop/view/A1298902...     安选验真    None   \n",
       "\n",
       "                           message_list                 address    tags  \\\n",
       "0  [2室1厅, 57m², 中层(共6层), 1992年建造, 曹灿平]  城北新村  萧山-萧山市区-金惠路,近萧杭路  [南北通透]   \n",
       "1  [2室1厅, 57m², 中层(共6层), 1992年建造, 曹灿平]  城北新村  萧山-萧山市区-金惠路,近萧杭路  [南北通透]   \n",
       "\n",
       "  price_det price_unit  \n",
       "0      180万  31250元/m²  \n",
       "1      180万  31250元/m²  "
      ]
     },
     "execution_count": 57,
     "metadata": {},
     "output_type": "execute_result"
    }
   ],
   "source": [
    "s = pd.DataFrame([result, result], columns = ['title', 'title_url', 'icon_tag', 'icon_zt', 'message_list', 'address', 'tags', 'price_det',\n",
    "               'price_unit'])\n",
    "s"
   ]
  },
  {
   "cell_type": "code",
   "execution_count": 58,
   "metadata": {},
   "outputs": [
    {
     "data": {
      "text/plain": [
       "(2, 9)"
      ]
     },
     "execution_count": 58,
     "metadata": {},
     "output_type": "execute_result"
    }
   ],
   "source": [
    "s.shape"
   ]
  },
  {
   "cell_type": "code",
   "execution_count": 61,
   "metadata": {},
   "outputs": [
    {
     "data": {
      "text/plain": [
       "['城北新村', '萧山-萧山市区-金惠路,近萧杭路']"
      ]
     },
     "execution_count": 61,
     "metadata": {},
     "output_type": "execute_result"
    }
   ],
   "source": [
    "address.split()"
   ]
  },
  {
   "cell_type": "code",
   "execution_count": null,
   "metadata": {},
   "outputs": [],
   "source": []
  }
 ],
 "metadata": {
  "kernelspec": {
   "display_name": "Python 3",
   "language": "python",
   "name": "python3"
  },
  "language_info": {
   "codemirror_mode": {
    "name": "ipython",
    "version": 3
   },
   "file_extension": ".py",
   "mimetype": "text/x-python",
   "name": "python",
   "nbconvert_exporter": "python",
   "pygments_lexer": "ipython3",
   "version": "3.6.4"
  }
 },
 "nbformat": 4,
 "nbformat_minor": 2
}
