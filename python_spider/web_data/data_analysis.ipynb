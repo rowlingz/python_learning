{
 "cells": [
  {
   "cell_type": "code",
   "execution_count": 1,
   "metadata": {},
   "outputs": [],
   "source": [
    "import pandas as pd"
   ]
  },
  {
   "cell_type": "code",
   "execution_count": 2,
   "metadata": {},
   "outputs": [
    {
     "data": {
      "text/plain": [
       "(873233, 10)"
      ]
     },
     "execution_count": 2,
     "metadata": {},
     "output_type": "execute_result"
    }
   ],
   "source": [
    "filename1 = 'hangzhou_info_.csv'\n",
    "filename2 = 'hangzhou_info_2.csv'\n",
    "df1 = pd.read_csv(filename1, header=None)\n",
    "df2 = pd.read_csv(filename2, header=None)\n",
    "df = pd.concat([df1, df2], ignore_index=True)\n",
    "df.columns = ['title', 'title_url', 'icon_tag', 'icon_zt', 'message_list', 'community_name', 'community_address', 'tags', 'price_det', 'price_unit']\n",
    "df.shape\n"
   ]
  },
  {
   "cell_type": "code",
   "execution_count": 3,
   "metadata": {
    "scrolled": true
   },
   "outputs": [
    {
     "data": {
      "text/html": [
       "<div>\n",
       "<style scoped>\n",
       "    .dataframe tbody tr th:only-of-type {\n",
       "        vertical-align: middle;\n",
       "    }\n",
       "\n",
       "    .dataframe tbody tr th {\n",
       "        vertical-align: top;\n",
       "    }\n",
       "\n",
       "    .dataframe thead th {\n",
       "        text-align: right;\n",
       "    }\n",
       "</style>\n",
       "<table border=\"1\" class=\"dataframe\">\n",
       "  <thead>\n",
       "    <tr style=\"text-align: right;\">\n",
       "      <th></th>\n",
       "      <th>title</th>\n",
       "      <th>title_url</th>\n",
       "      <th>icon_tag</th>\n",
       "      <th>icon_zt</th>\n",
       "      <th>message_list</th>\n",
       "      <th>community_name</th>\n",
       "      <th>community_address</th>\n",
       "      <th>tags</th>\n",
       "      <th>price_det</th>\n",
       "      <th>price_unit</th>\n",
       "    </tr>\n",
       "  </thead>\n",
       "  <tbody>\n",
       "    <tr>\n",
       "      <th>0</th>\n",
       "      <td>总价只要35万 精装公寓 D铁口0距 离 送软装4045方</td>\n",
       "      <td>https://hangzhou.anjuke.com/prop/view/A1308858...</td>\n",
       "      <td>NaN</td>\n",
       "      <td>NaN</td>\n",
       "      <td>['1室1厅', '45m²', '中层(共27层)', '2018年建造', '\\ue14...</td>\n",
       "      <td>商贸公寓</td>\n",
       "      <td>萧山-瓜沥-商贸街188号</td>\n",
       "      <td>[]</td>\n",
       "      <td>45万</td>\n",
       "      <td>10000元/m²</td>\n",
       "    </tr>\n",
       "    <tr>\n",
       "      <th>1</th>\n",
       "      <td>瓜沥 只需45万你就可以再瓜沥读任伯年小学 边套 读书专属</td>\n",
       "      <td>https://hangzhou.anjuke.com/prop/view/A1275415...</td>\n",
       "      <td>NaN</td>\n",
       "      <td>NaN</td>\n",
       "      <td>['1室1厅', '36m²', '高层(共6层)', '1984年建造', '\\ue147...</td>\n",
       "      <td>商贸公寓</td>\n",
       "      <td>萧山-瓜沥-商贸街188号</td>\n",
       "      <td>[]</td>\n",
       "      <td>45万</td>\n",
       "      <td>12500元/m²</td>\n",
       "    </tr>\n",
       "    <tr>\n",
       "      <th>2</th>\n",
       "      <td>10年包租 5年回本诸暨国际袜都财富</td>\n",
       "      <td>https://hangzhou.anjuke.com/prop/view/A1314411...</td>\n",
       "      <td>NaN</td>\n",
       "      <td>NaN</td>\n",
       "      <td>['1室2厅', '50m²', '中层(共17层)', '2016年建造', '\\ue14...</td>\n",
       "      <td>商贸公寓</td>\n",
       "      <td>萧山-瓜沥-商贸街188号</td>\n",
       "      <td>['近地铁', '配套成熟', '环境优美']</td>\n",
       "      <td>50万</td>\n",
       "      <td>10000元/m²</td>\n",
       "    </tr>\n",
       "    <tr>\n",
       "      <th>3</th>\n",
       "      <td>瓜沥低总价两房，东西通透，装修清爽，房东诚心出售，方便看房</td>\n",
       "      <td>https://hangzhou.anjuke.com/prop/view/A1292678...</td>\n",
       "      <td>NaN</td>\n",
       "      <td>NaN</td>\n",
       "      <td>['1室1厅', '50m²', '中层(共6层)', '1996年建造', '\\ue147...</td>\n",
       "      <td>商贸公寓</td>\n",
       "      <td>萧山-瓜沥-商贸街188号</td>\n",
       "      <td>[]</td>\n",
       "      <td>50万</td>\n",
       "      <td>10000元/m²</td>\n",
       "    </tr>\n",
       "    <tr>\n",
       "      <th>4</th>\n",
       "      <td>瓜沥殿下路的房子，可上壬伯年小学，小户型，要的赶紧</td>\n",
       "      <td>https://hangzhou.anjuke.com/prop/view/A1299300...</td>\n",
       "      <td>NaN</td>\n",
       "      <td>NaN</td>\n",
       "      <td>['1室1厅', '36m²', '高层(共6层)', '1991年建造', '\\ue147...</td>\n",
       "      <td>商贸公寓</td>\n",
       "      <td>萧山-瓜沥-商贸街188号</td>\n",
       "      <td>[]</td>\n",
       "      <td>45万</td>\n",
       "      <td>12500元/m²</td>\n",
       "    </tr>\n",
       "  </tbody>\n",
       "</table>\n",
       "</div>"
      ],
      "text/plain": [
       "                           title  \\\n",
       "0  总价只要35万 精装公寓 D铁口0距 离 送软装4045方   \n",
       "1  瓜沥 只需45万你就可以再瓜沥读任伯年小学 边套 读书专属   \n",
       "2             10年包租 5年回本诸暨国际袜都财富   \n",
       "3  瓜沥低总价两房，东西通透，装修清爽，房东诚心出售，方便看房   \n",
       "4      瓜沥殿下路的房子，可上壬伯年小学，小户型，要的赶紧   \n",
       "\n",
       "                                           title_url icon_tag icon_zt  \\\n",
       "0  https://hangzhou.anjuke.com/prop/view/A1308858...      NaN     NaN   \n",
       "1  https://hangzhou.anjuke.com/prop/view/A1275415...      NaN     NaN   \n",
       "2  https://hangzhou.anjuke.com/prop/view/A1314411...      NaN     NaN   \n",
       "3  https://hangzhou.anjuke.com/prop/view/A1292678...      NaN     NaN   \n",
       "4  https://hangzhou.anjuke.com/prop/view/A1299300...      NaN     NaN   \n",
       "\n",
       "                                        message_list community_name  \\\n",
       "0  ['1室1厅', '45m²', '中层(共27层)', '2018年建造', '\\ue14...           商贸公寓   \n",
       "1  ['1室1厅', '36m²', '高层(共6层)', '1984年建造', '\\ue147...           商贸公寓   \n",
       "2  ['1室2厅', '50m²', '中层(共17层)', '2016年建造', '\\ue14...           商贸公寓   \n",
       "3  ['1室1厅', '50m²', '中层(共6层)', '1996年建造', '\\ue147...           商贸公寓   \n",
       "4  ['1室1厅', '36m²', '高层(共6层)', '1991年建造', '\\ue147...           商贸公寓   \n",
       "\n",
       "  community_address                     tags price_det price_unit  \n",
       "0     萧山-瓜沥-商贸街188号                       []       45万  10000元/m²  \n",
       "1     萧山-瓜沥-商贸街188号                       []       45万  12500元/m²  \n",
       "2     萧山-瓜沥-商贸街188号  ['近地铁', '配套成熟', '环境优美']       50万  10000元/m²  \n",
       "3     萧山-瓜沥-商贸街188号                       []       50万  10000元/m²  \n",
       "4     萧山-瓜沥-商贸街188号                       []       45万  12500元/m²  "
      ]
     },
     "execution_count": 3,
     "metadata": {},
     "output_type": "execute_result"
    }
   ],
   "source": [
    "df.head()"
   ]
  },
  {
   "cell_type": "code",
   "execution_count": 4,
   "metadata": {},
   "outputs": [
    {
     "data": {
      "text/plain": [
       "(873233, 10)"
      ]
     },
     "execution_count": 4,
     "metadata": {},
     "output_type": "execute_result"
    }
   ],
   "source": [
    "data = df.drop_duplicates()\n",
    "data.shape"
   ]
  },
  {
   "cell_type": "code",
   "execution_count": 5,
   "metadata": {
    "scrolled": true
   },
   "outputs": [
    {
     "name": "stdout",
     "output_type": "stream",
     "text": [
      "<class 'pandas.core.frame.DataFrame'>\n",
      "Int64Index: 873233 entries, 0 to 873232\n",
      "Data columns (total 10 columns):\n",
      "title                873233 non-null object\n",
      "title_url            873233 non-null object\n",
      "icon_tag             19897 non-null object\n",
      "icon_zt              10196 non-null object\n",
      "message_list         873233 non-null object\n",
      "community_name       863747 non-null object\n",
      "community_address    863747 non-null object\n",
      "tags                 873233 non-null object\n",
      "price_det            873233 non-null object\n",
      "price_unit           873233 non-null object\n",
      "dtypes: object(10)\n",
      "memory usage: 73.3+ MB\n"
     ]
    }
   ],
   "source": [
    "data.info()"
   ]
  },
  {
   "cell_type": "code",
   "execution_count": 6,
   "metadata": {},
   "outputs": [
    {
     "name": "stdout",
     "output_type": "stream",
     "text": [
      "<class 'pandas.core.frame.DataFrame'>\n",
      "Int64Index: 863747 entries, 0 to 873232\n",
      "Data columns (total 10 columns):\n",
      "title                863747 non-null object\n",
      "title_url            863747 non-null object\n",
      "icon_tag             19717 non-null object\n",
      "icon_zt              10094 non-null object\n",
      "message_list         863747 non-null object\n",
      "community_name       863747 non-null object\n",
      "community_address    863747 non-null object\n",
      "tags                 863747 non-null object\n",
      "price_det            863747 non-null object\n",
      "price_unit           863747 non-null object\n",
      "dtypes: object(10)\n",
      "memory usage: 72.5+ MB\n"
     ]
    }
   ],
   "source": [
    "# 删除地址为空的行\n",
    "data_ = data.loc[data['community_name'].notnull()]\n",
    "data_.info()"
   ]
  },
  {
   "cell_type": "code",
   "execution_count": 7,
   "metadata": {},
   "outputs": [
    {
     "name": "stdout",
     "output_type": "stream",
     "text": [
      "<class 'pandas.core.frame.DataFrame'>\n",
      "Int64Index: 863747 entries, 0 to 873232\n",
      "Data columns (total 6 columns):\n",
      "message_list         863747 non-null object\n",
      "community_name       863747 non-null object\n",
      "community_address    863747 non-null object\n",
      "tags                 863747 non-null object\n",
      "price_det            863747 non-null object\n",
      "price_unit           863747 non-null object\n",
      "dtypes: object(6)\n",
      "memory usage: 46.1+ MB\n"
     ]
    }
   ],
   "source": [
    "# 筛选出指定的数据集\n",
    "data_set = data_[['message_list', 'community_name', 'community_address', 'tags', 'price_det', 'price_unit']]\n",
    "data_set.info()"
   ]
  },
  {
   "cell_type": "code",
   "execution_count": 8,
   "metadata": {},
   "outputs": [
    {
     "data": {
      "text/html": [
       "<div>\n",
       "<style scoped>\n",
       "    .dataframe tbody tr th:only-of-type {\n",
       "        vertical-align: middle;\n",
       "    }\n",
       "\n",
       "    .dataframe tbody tr th {\n",
       "        vertical-align: top;\n",
       "    }\n",
       "\n",
       "    .dataframe thead th {\n",
       "        text-align: right;\n",
       "    }\n",
       "</style>\n",
       "<table border=\"1\" class=\"dataframe\">\n",
       "  <thead>\n",
       "    <tr style=\"text-align: right;\">\n",
       "      <th></th>\n",
       "      <th>message_list</th>\n",
       "      <th>community_name</th>\n",
       "      <th>community_address</th>\n",
       "      <th>tags</th>\n",
       "      <th>price_det</th>\n",
       "      <th>price_unit</th>\n",
       "    </tr>\n",
       "  </thead>\n",
       "  <tbody>\n",
       "    <tr>\n",
       "      <th>0</th>\n",
       "      <td>['1室1厅', '45m²', '中层(共27层)', '2018年建造', '\\ue14...</td>\n",
       "      <td>商贸公寓</td>\n",
       "      <td>萧山-瓜沥-商贸街188号</td>\n",
       "      <td>[]</td>\n",
       "      <td>45万</td>\n",
       "      <td>10000元/m²</td>\n",
       "    </tr>\n",
       "    <tr>\n",
       "      <th>1</th>\n",
       "      <td>['1室1厅', '36m²', '高层(共6层)', '1984年建造', '\\ue147...</td>\n",
       "      <td>商贸公寓</td>\n",
       "      <td>萧山-瓜沥-商贸街188号</td>\n",
       "      <td>[]</td>\n",
       "      <td>45万</td>\n",
       "      <td>12500元/m²</td>\n",
       "    </tr>\n",
       "    <tr>\n",
       "      <th>2</th>\n",
       "      <td>['1室2厅', '50m²', '中层(共17层)', '2016年建造', '\\ue14...</td>\n",
       "      <td>商贸公寓</td>\n",
       "      <td>萧山-瓜沥-商贸街188号</td>\n",
       "      <td>['近地铁', '配套成熟', '环境优美']</td>\n",
       "      <td>50万</td>\n",
       "      <td>10000元/m²</td>\n",
       "    </tr>\n",
       "    <tr>\n",
       "      <th>3</th>\n",
       "      <td>['1室1厅', '50m²', '中层(共6层)', '1996年建造', '\\ue147...</td>\n",
       "      <td>商贸公寓</td>\n",
       "      <td>萧山-瓜沥-商贸街188号</td>\n",
       "      <td>[]</td>\n",
       "      <td>50万</td>\n",
       "      <td>10000元/m²</td>\n",
       "    </tr>\n",
       "    <tr>\n",
       "      <th>4</th>\n",
       "      <td>['1室1厅', '36m²', '高层(共6层)', '1991年建造', '\\ue147...</td>\n",
       "      <td>商贸公寓</td>\n",
       "      <td>萧山-瓜沥-商贸街188号</td>\n",
       "      <td>[]</td>\n",
       "      <td>45万</td>\n",
       "      <td>12500元/m²</td>\n",
       "    </tr>\n",
       "  </tbody>\n",
       "</table>\n",
       "</div>"
      ],
      "text/plain": [
       "                                        message_list community_name  \\\n",
       "0  ['1室1厅', '45m²', '中层(共27层)', '2018年建造', '\\ue14...           商贸公寓   \n",
       "1  ['1室1厅', '36m²', '高层(共6层)', '1984年建造', '\\ue147...           商贸公寓   \n",
       "2  ['1室2厅', '50m²', '中层(共17层)', '2016年建造', '\\ue14...           商贸公寓   \n",
       "3  ['1室1厅', '50m²', '中层(共6层)', '1996年建造', '\\ue147...           商贸公寓   \n",
       "4  ['1室1厅', '36m²', '高层(共6层)', '1991年建造', '\\ue147...           商贸公寓   \n",
       "\n",
       "  community_address                     tags price_det price_unit  \n",
       "0     萧山-瓜沥-商贸街188号                       []       45万  10000元/m²  \n",
       "1     萧山-瓜沥-商贸街188号                       []       45万  12500元/m²  \n",
       "2     萧山-瓜沥-商贸街188号  ['近地铁', '配套成熟', '环境优美']       50万  10000元/m²  \n",
       "3     萧山-瓜沥-商贸街188号                       []       50万  10000元/m²  \n",
       "4     萧山-瓜沥-商贸街188号                       []       45万  12500元/m²  "
      ]
     },
     "execution_count": 8,
     "metadata": {},
     "output_type": "execute_result"
    }
   ],
   "source": [
    "# 将索引重新排列，按序依次排列\n",
    "data_set.reindex(range(len(data_set)))\n",
    "data_set.head()"
   ]
  },
  {
   "cell_type": "code",
   "execution_count": 9,
   "metadata": {
    "scrolled": true
   },
   "outputs": [
    {
     "name": "stderr",
     "output_type": "stream",
     "text": [
      "C:\\Users\\zhouning75\\Anaconda3\\lib\\site-packages\\ipykernel_launcher.py:2: SettingWithCopyWarning: \n",
      "A value is trying to be set on a copy of a slice from a DataFrame.\n",
      "Try using .loc[row_indexer,col_indexer] = value instead\n",
      "\n",
      "See the caveats in the documentation: http://pandas.pydata.org/pandas-docs/stable/indexing.html#indexing-view-versus-copy\n",
      "  \n",
      "C:\\Users\\zhouning75\\Anaconda3\\lib\\site-packages\\ipykernel_launcher.py:3: SettingWithCopyWarning: \n",
      "A value is trying to be set on a copy of a slice from a DataFrame.\n",
      "Try using .loc[row_indexer,col_indexer] = value instead\n",
      "\n",
      "See the caveats in the documentation: http://pandas.pydata.org/pandas-docs/stable/indexing.html#indexing-view-versus-copy\n",
      "  This is separate from the ipykernel package so we can avoid doing imports until\n",
      "C:\\Users\\zhouning75\\Anaconda3\\lib\\site-packages\\ipykernel_launcher.py:5: SettingWithCopyWarning: \n",
      "A value is trying to be set on a copy of a slice from a DataFrame.\n",
      "Try using .loc[row_indexer,col_indexer] = value instead\n",
      "\n",
      "See the caveats in the documentation: http://pandas.pydata.org/pandas-docs/stable/indexing.html#indexing-view-versus-copy\n",
      "  \"\"\"\n",
      "C:\\Users\\zhouning75\\Anaconda3\\lib\\site-packages\\ipykernel_launcher.py:6: SettingWithCopyWarning: \n",
      "A value is trying to be set on a copy of a slice from a DataFrame.\n",
      "Try using .loc[row_indexer,col_indexer] = value instead\n",
      "\n",
      "See the caveats in the documentation: http://pandas.pydata.org/pandas-docs/stable/indexing.html#indexing-view-versus-copy\n",
      "  \n",
      "C:\\Users\\zhouning75\\Anaconda3\\lib\\site-packages\\ipykernel_launcher.py:7: SettingWithCopyWarning: \n",
      "A value is trying to be set on a copy of a slice from a DataFrame.\n",
      "Try using .loc[row_indexer,col_indexer] = value instead\n",
      "\n",
      "See the caveats in the documentation: http://pandas.pydata.org/pandas-docs/stable/indexing.html#indexing-view-versus-copy\n",
      "  import sys\n"
     ]
    },
    {
     "data": {
      "text/html": [
       "<div>\n",
       "<style scoped>\n",
       "    .dataframe tbody tr th:only-of-type {\n",
       "        vertical-align: middle;\n",
       "    }\n",
       "\n",
       "    .dataframe tbody tr th {\n",
       "        vertical-align: top;\n",
       "    }\n",
       "\n",
       "    .dataframe thead th {\n",
       "        text-align: right;\n",
       "    }\n",
       "</style>\n",
       "<table border=\"1\" class=\"dataframe\">\n",
       "  <thead>\n",
       "    <tr style=\"text-align: right;\">\n",
       "      <th></th>\n",
       "      <th>message_list</th>\n",
       "      <th>community_name</th>\n",
       "      <th>community_address</th>\n",
       "      <th>tags</th>\n",
       "      <th>price_det</th>\n",
       "      <th>price_unit</th>\n",
       "      <th>house_type</th>\n",
       "      <th>area</th>\n",
       "      <th>floor</th>\n",
       "      <th>year</th>\n",
       "    </tr>\n",
       "  </thead>\n",
       "  <tbody>\n",
       "    <tr>\n",
       "      <th>0</th>\n",
       "      <td>'1室1厅', '45m²', '中层(共27层)', '2018年建造', '\\ue147周威'</td>\n",
       "      <td>商贸公寓</td>\n",
       "      <td>萧山-瓜沥-商贸街188号</td>\n",
       "      <td></td>\n",
       "      <td>45万</td>\n",
       "      <td>10000元/m²</td>\n",
       "      <td>'1室1厅'</td>\n",
       "      <td>'45m²'</td>\n",
       "      <td>'中层(共27层)'</td>\n",
       "      <td>'2018年建造'</td>\n",
       "    </tr>\n",
       "    <tr>\n",
       "      <th>1</th>\n",
       "      <td>'1室1厅', '36m²', '高层(共6层)', '1984年建造', '\\ue147张凯杰'</td>\n",
       "      <td>商贸公寓</td>\n",
       "      <td>萧山-瓜沥-商贸街188号</td>\n",
       "      <td></td>\n",
       "      <td>45万</td>\n",
       "      <td>12500元/m²</td>\n",
       "      <td>'1室1厅'</td>\n",
       "      <td>'36m²'</td>\n",
       "      <td>'高层(共6层)'</td>\n",
       "      <td>'1984年建造'</td>\n",
       "    </tr>\n",
       "    <tr>\n",
       "      <th>2</th>\n",
       "      <td>'1室2厅', '50m²', '中层(共17层)', '2016年建造', '\\ue147冯刚'</td>\n",
       "      <td>商贸公寓</td>\n",
       "      <td>萧山-瓜沥-商贸街188号</td>\n",
       "      <td>'近地铁', '配套成熟', '环境优美'</td>\n",
       "      <td>50万</td>\n",
       "      <td>10000元/m²</td>\n",
       "      <td>'1室2厅'</td>\n",
       "      <td>'50m²'</td>\n",
       "      <td>'中层(共17层)'</td>\n",
       "      <td>'2016年建造'</td>\n",
       "    </tr>\n",
       "    <tr>\n",
       "      <th>3</th>\n",
       "      <td>'1室1厅', '50m²', '中层(共6层)', '1996年建造', '\\ue147周银'</td>\n",
       "      <td>商贸公寓</td>\n",
       "      <td>萧山-瓜沥-商贸街188号</td>\n",
       "      <td></td>\n",
       "      <td>50万</td>\n",
       "      <td>10000元/m²</td>\n",
       "      <td>'1室1厅'</td>\n",
       "      <td>'50m²'</td>\n",
       "      <td>'中层(共6层)'</td>\n",
       "      <td>'1996年建造'</td>\n",
       "    </tr>\n",
       "    <tr>\n",
       "      <th>4</th>\n",
       "      <td>'1室1厅', '36m²', '高层(共6层)', '1991年建造', '\\ue147李秀英'</td>\n",
       "      <td>商贸公寓</td>\n",
       "      <td>萧山-瓜沥-商贸街188号</td>\n",
       "      <td></td>\n",
       "      <td>45万</td>\n",
       "      <td>12500元/m²</td>\n",
       "      <td>'1室1厅'</td>\n",
       "      <td>'36m²'</td>\n",
       "      <td>'高层(共6层)'</td>\n",
       "      <td>'1991年建造'</td>\n",
       "    </tr>\n",
       "  </tbody>\n",
       "</table>\n",
       "</div>"
      ],
      "text/plain": [
       "                                        message_list community_name  \\\n",
       "0  '1室1厅', '45m²', '中层(共27层)', '2018年建造', '\\ue147周威'           商贸公寓   \n",
       "1  '1室1厅', '36m²', '高层(共6层)', '1984年建造', '\\ue147张凯杰'           商贸公寓   \n",
       "2  '1室2厅', '50m²', '中层(共17层)', '2016年建造', '\\ue147冯刚'           商贸公寓   \n",
       "3   '1室1厅', '50m²', '中层(共6层)', '1996年建造', '\\ue147周银'           商贸公寓   \n",
       "4  '1室1厅', '36m²', '高层(共6层)', '1991年建造', '\\ue147李秀英'           商贸公寓   \n",
       "\n",
       "  community_address                   tags price_det price_unit house_type  \\\n",
       "0     萧山-瓜沥-商贸街188号                              45万  10000元/m²     '1室1厅'   \n",
       "1     萧山-瓜沥-商贸街188号                              45万  12500元/m²     '1室1厅'   \n",
       "2     萧山-瓜沥-商贸街188号  '近地铁', '配套成熟', '环境优美'       50万  10000元/m²     '1室2厅'   \n",
       "3     萧山-瓜沥-商贸街188号                              50万  10000元/m²     '1室1厅'   \n",
       "4     萧山-瓜沥-商贸街188号                              45万  12500元/m²     '1室1厅'   \n",
       "\n",
       "      area        floor        year  \n",
       "0   '45m²'   '中层(共27层)'   '2018年建造'  \n",
       "1   '36m²'    '高层(共6层)'   '1984年建造'  \n",
       "2   '50m²'   '中层(共17层)'   '2016年建造'  \n",
       "3   '50m²'    '中层(共6层)'   '1996年建造'  \n",
       "4   '36m²'    '高层(共6层)'   '1991年建造'  "
      ]
     },
     "execution_count": 9,
     "metadata": {},
     "output_type": "execute_result"
    }
   ],
   "source": [
    "# 将房型基本信息 分列 处理，删除’[, ]'\n",
    "data_set['message_list'] = data_set['message_list'].apply(lambda x: x.strip('[').strip(']'))\n",
    "data_set['tags'] = data_set['tags'].apply(lambda x: x.strip('[').strip(']'))\n",
    "\n",
    "data_set['house_type'] = data_set['message_list'].apply(lambda x: x.split(',')[0])\n",
    "data_set['area'] = data_set['message_list'].apply(lambda x: x.split(',')[1])\n",
    "data_set['floor'] = data_set['message_list'].apply(lambda x: x.split(',')[2])\n",
    "data_set['year'] = data_set['message_list'].apply(lambda x: x.split(',')[3])\n",
    "data_set.head()"
   ]
  },
  {
   "cell_type": "code",
   "execution_count": 10,
   "metadata": {},
   "outputs": [
    {
     "data": {
      "text/html": [
       "<div>\n",
       "<style scoped>\n",
       "    .dataframe tbody tr th:only-of-type {\n",
       "        vertical-align: middle;\n",
       "    }\n",
       "\n",
       "    .dataframe tbody tr th {\n",
       "        vertical-align: top;\n",
       "    }\n",
       "\n",
       "    .dataframe thead th {\n",
       "        text-align: right;\n",
       "    }\n",
       "</style>\n",
       "<table border=\"1\" class=\"dataframe\">\n",
       "  <thead>\n",
       "    <tr style=\"text-align: right;\">\n",
       "      <th></th>\n",
       "      <th>community_name</th>\n",
       "      <th>tags</th>\n",
       "      <th>price_det</th>\n",
       "      <th>price_unit</th>\n",
       "      <th>house_type</th>\n",
       "      <th>area</th>\n",
       "      <th>floor</th>\n",
       "      <th>year</th>\n",
       "      <th>region</th>\n",
       "      <th>sub_region</th>\n",
       "      <th>stree</th>\n",
       "    </tr>\n",
       "  </thead>\n",
       "  <tbody>\n",
       "    <tr>\n",
       "      <th>0</th>\n",
       "      <td>商贸公寓</td>\n",
       "      <td></td>\n",
       "      <td>45万</td>\n",
       "      <td>10000元/m²</td>\n",
       "      <td>'1室1厅'</td>\n",
       "      <td>'45m²'</td>\n",
       "      <td>'中层(共27层)'</td>\n",
       "      <td>'2018年建造'</td>\n",
       "      <td>萧山</td>\n",
       "      <td>瓜沥</td>\n",
       "      <td>商贸街188号</td>\n",
       "    </tr>\n",
       "    <tr>\n",
       "      <th>1</th>\n",
       "      <td>商贸公寓</td>\n",
       "      <td></td>\n",
       "      <td>45万</td>\n",
       "      <td>12500元/m²</td>\n",
       "      <td>'1室1厅'</td>\n",
       "      <td>'36m²'</td>\n",
       "      <td>'高层(共6层)'</td>\n",
       "      <td>'1984年建造'</td>\n",
       "      <td>萧山</td>\n",
       "      <td>瓜沥</td>\n",
       "      <td>商贸街188号</td>\n",
       "    </tr>\n",
       "    <tr>\n",
       "      <th>2</th>\n",
       "      <td>商贸公寓</td>\n",
       "      <td>'近地铁', '配套成熟', '环境优美'</td>\n",
       "      <td>50万</td>\n",
       "      <td>10000元/m²</td>\n",
       "      <td>'1室2厅'</td>\n",
       "      <td>'50m²'</td>\n",
       "      <td>'中层(共17层)'</td>\n",
       "      <td>'2016年建造'</td>\n",
       "      <td>萧山</td>\n",
       "      <td>瓜沥</td>\n",
       "      <td>商贸街188号</td>\n",
       "    </tr>\n",
       "    <tr>\n",
       "      <th>3</th>\n",
       "      <td>商贸公寓</td>\n",
       "      <td></td>\n",
       "      <td>50万</td>\n",
       "      <td>10000元/m²</td>\n",
       "      <td>'1室1厅'</td>\n",
       "      <td>'50m²'</td>\n",
       "      <td>'中层(共6层)'</td>\n",
       "      <td>'1996年建造'</td>\n",
       "      <td>萧山</td>\n",
       "      <td>瓜沥</td>\n",
       "      <td>商贸街188号</td>\n",
       "    </tr>\n",
       "    <tr>\n",
       "      <th>4</th>\n",
       "      <td>商贸公寓</td>\n",
       "      <td></td>\n",
       "      <td>45万</td>\n",
       "      <td>12500元/m²</td>\n",
       "      <td>'1室1厅'</td>\n",
       "      <td>'36m²'</td>\n",
       "      <td>'高层(共6层)'</td>\n",
       "      <td>'1991年建造'</td>\n",
       "      <td>萧山</td>\n",
       "      <td>瓜沥</td>\n",
       "      <td>商贸街188号</td>\n",
       "    </tr>\n",
       "  </tbody>\n",
       "</table>\n",
       "</div>"
      ],
      "text/plain": [
       "  community_name                   tags price_det price_unit house_type  \\\n",
       "0           商贸公寓                              45万  10000元/m²     '1室1厅'   \n",
       "1           商贸公寓                              45万  12500元/m²     '1室1厅'   \n",
       "2           商贸公寓  '近地铁', '配套成熟', '环境优美'       50万  10000元/m²     '1室2厅'   \n",
       "3           商贸公寓                              50万  10000元/m²     '1室1厅'   \n",
       "4           商贸公寓                              45万  12500元/m²     '1室1厅'   \n",
       "\n",
       "      area        floor        year region sub_region    stree  \n",
       "0   '45m²'   '中层(共27层)'   '2018年建造'     萧山         瓜沥  商贸街188号  \n",
       "1   '36m²'    '高层(共6层)'   '1984年建造'     萧山         瓜沥  商贸街188号  \n",
       "2   '50m²'   '中层(共17层)'   '2016年建造'     萧山         瓜沥  商贸街188号  \n",
       "3   '50m²'    '中层(共6层)'   '1996年建造'     萧山         瓜沥  商贸街188号  \n",
       "4   '36m²'    '高层(共6层)'   '1991年建造'     萧山         瓜沥  商贸街188号  "
      ]
     },
     "execution_count": 10,
     "metadata": {},
     "output_type": "execute_result"
    }
   ],
   "source": [
    "# 将地址信息分列， 并删除原始汇总列\n",
    "data_set['region'] = data_set['community_address'].apply(lambda x: str(x).split('-')[0])\n",
    "data_set['sub_region'] = data_set['community_address'].apply(lambda x: str(x).split('-')[1])\n",
    "data_set['stree'] = data_set['community_address'].apply(lambda x: str(x).split('-')[2])\n",
    "data_set = data_set.drop(['message_list', 'community_address'], axis=1)\n",
    "data_set.head()"
   ]
  },
  {
   "cell_type": "code",
   "execution_count": 12,
   "metadata": {},
   "outputs": [],
   "source": [
    "import re\n",
    "\n",
    "num_col = ['price_det', 'price_unit','area', 'year']\n",
    "for col in num_col:\n",
    "    data_set[col] = data_set[col].apply(lambda x: re.findall('\\d+', x.strip())[0])"
   ]
  },
  {
   "cell_type": "code",
   "execution_count": 13,
   "metadata": {},
   "outputs": [
    {
     "data": {
      "text/html": [
       "<div>\n",
       "<style scoped>\n",
       "    .dataframe tbody tr th:only-of-type {\n",
       "        vertical-align: middle;\n",
       "    }\n",
       "\n",
       "    .dataframe tbody tr th {\n",
       "        vertical-align: top;\n",
       "    }\n",
       "\n",
       "    .dataframe thead th {\n",
       "        text-align: right;\n",
       "    }\n",
       "</style>\n",
       "<table border=\"1\" class=\"dataframe\">\n",
       "  <thead>\n",
       "    <tr style=\"text-align: right;\">\n",
       "      <th></th>\n",
       "      <th>community_name</th>\n",
       "      <th>tags</th>\n",
       "      <th>price_det</th>\n",
       "      <th>price_unit</th>\n",
       "      <th>house_type</th>\n",
       "      <th>area</th>\n",
       "      <th>floor</th>\n",
       "      <th>year</th>\n",
       "      <th>region</th>\n",
       "      <th>sub_region</th>\n",
       "      <th>stree</th>\n",
       "      <th>floor_heigh</th>\n",
       "      <th>floor_num</th>\n",
       "    </tr>\n",
       "  </thead>\n",
       "  <tbody>\n",
       "    <tr>\n",
       "      <th>0</th>\n",
       "      <td>商贸公寓</td>\n",
       "      <td></td>\n",
       "      <td>45</td>\n",
       "      <td>10000</td>\n",
       "      <td>'1室1厅'</td>\n",
       "      <td>45</td>\n",
       "      <td>中层(共27层)</td>\n",
       "      <td>2018</td>\n",
       "      <td>萧山</td>\n",
       "      <td>瓜沥</td>\n",
       "      <td>商贸街188号</td>\n",
       "      <td>中层</td>\n",
       "      <td>27</td>\n",
       "    </tr>\n",
       "    <tr>\n",
       "      <th>1</th>\n",
       "      <td>商贸公寓</td>\n",
       "      <td></td>\n",
       "      <td>45</td>\n",
       "      <td>12500</td>\n",
       "      <td>'1室1厅'</td>\n",
       "      <td>36</td>\n",
       "      <td>高层(共6层)</td>\n",
       "      <td>1984</td>\n",
       "      <td>萧山</td>\n",
       "      <td>瓜沥</td>\n",
       "      <td>商贸街188号</td>\n",
       "      <td>高层</td>\n",
       "      <td>6</td>\n",
       "    </tr>\n",
       "    <tr>\n",
       "      <th>2</th>\n",
       "      <td>商贸公寓</td>\n",
       "      <td>'近地铁', '配套成熟', '环境优美'</td>\n",
       "      <td>50</td>\n",
       "      <td>10000</td>\n",
       "      <td>'1室2厅'</td>\n",
       "      <td>50</td>\n",
       "      <td>中层(共17层)</td>\n",
       "      <td>2016</td>\n",
       "      <td>萧山</td>\n",
       "      <td>瓜沥</td>\n",
       "      <td>商贸街188号</td>\n",
       "      <td>中层</td>\n",
       "      <td>17</td>\n",
       "    </tr>\n",
       "    <tr>\n",
       "      <th>3</th>\n",
       "      <td>商贸公寓</td>\n",
       "      <td></td>\n",
       "      <td>50</td>\n",
       "      <td>10000</td>\n",
       "      <td>'1室1厅'</td>\n",
       "      <td>50</td>\n",
       "      <td>中层(共6层)</td>\n",
       "      <td>1996</td>\n",
       "      <td>萧山</td>\n",
       "      <td>瓜沥</td>\n",
       "      <td>商贸街188号</td>\n",
       "      <td>中层</td>\n",
       "      <td>6</td>\n",
       "    </tr>\n",
       "    <tr>\n",
       "      <th>4</th>\n",
       "      <td>商贸公寓</td>\n",
       "      <td></td>\n",
       "      <td>45</td>\n",
       "      <td>12500</td>\n",
       "      <td>'1室1厅'</td>\n",
       "      <td>36</td>\n",
       "      <td>高层(共6层)</td>\n",
       "      <td>1991</td>\n",
       "      <td>萧山</td>\n",
       "      <td>瓜沥</td>\n",
       "      <td>商贸街188号</td>\n",
       "      <td>高层</td>\n",
       "      <td>6</td>\n",
       "    </tr>\n",
       "  </tbody>\n",
       "</table>\n",
       "</div>"
      ],
      "text/plain": [
       "  community_name                   tags price_det price_unit house_type area  \\\n",
       "0           商贸公寓                               45      10000     '1室1厅'   45   \n",
       "1           商贸公寓                               45      12500     '1室1厅'   36   \n",
       "2           商贸公寓  '近地铁', '配套成熟', '环境优美'        50      10000     '1室2厅'   50   \n",
       "3           商贸公寓                               50      10000     '1室1厅'   50   \n",
       "4           商贸公寓                               45      12500     '1室1厅'   36   \n",
       "\n",
       "      floor  year region sub_region    stree floor_heigh floor_num  \n",
       "0  中层(共27层)  2018     萧山         瓜沥  商贸街188号          中层        27  \n",
       "1   高层(共6层)  1984     萧山         瓜沥  商贸街188号          高层         6  \n",
       "2  中层(共17层)  2016     萧山         瓜沥  商贸街188号          中层        17  \n",
       "3   中层(共6层)  1996     萧山         瓜沥  商贸街188号          中层         6  \n",
       "4   高层(共6层)  1991     萧山         瓜沥  商贸街188号          高层         6  "
      ]
     },
     "execution_count": 13,
     "metadata": {},
     "output_type": "execute_result"
    }
   ],
   "source": [
    "import numpy as np\n",
    "\n",
    "data_set['floor'] = data_set['floor'].apply(lambda x: x.strip().strip(\"'\"))\n",
    "data_set['floor_heigh'] = data_set['floor'].apply(lambda x: x[:2] if len(x) > 4 else None)\n",
    "data_set['floor_num'] = data_set['floor'].apply(lambda x: re.findall('\\d+', x)[0])\n",
    "\n",
    "data_set.head()"
   ]
  },
  {
   "cell_type": "code",
   "execution_count": 14,
   "metadata": {},
   "outputs": [
    {
     "data": {
      "text/html": [
       "<div>\n",
       "<style scoped>\n",
       "    .dataframe tbody tr th:only-of-type {\n",
       "        vertical-align: middle;\n",
       "    }\n",
       "\n",
       "    .dataframe tbody tr th {\n",
       "        vertical-align: top;\n",
       "    }\n",
       "\n",
       "    .dataframe thead th {\n",
       "        text-align: right;\n",
       "    }\n",
       "</style>\n",
       "<table border=\"1\" class=\"dataframe\">\n",
       "  <thead>\n",
       "    <tr style=\"text-align: right;\">\n",
       "      <th></th>\n",
       "      <th>community_name</th>\n",
       "      <th>tags</th>\n",
       "      <th>price_det</th>\n",
       "      <th>price_unit</th>\n",
       "      <th>house_type</th>\n",
       "      <th>area</th>\n",
       "      <th>year</th>\n",
       "      <th>region</th>\n",
       "      <th>sub_region</th>\n",
       "      <th>stree</th>\n",
       "      <th>floor_heigh</th>\n",
       "      <th>floor_num</th>\n",
       "    </tr>\n",
       "  </thead>\n",
       "  <tbody>\n",
       "    <tr>\n",
       "      <th>0</th>\n",
       "      <td>商贸公寓</td>\n",
       "      <td></td>\n",
       "      <td>45</td>\n",
       "      <td>10000</td>\n",
       "      <td>'1室1厅'</td>\n",
       "      <td>45</td>\n",
       "      <td>2018</td>\n",
       "      <td>萧山</td>\n",
       "      <td>瓜沥</td>\n",
       "      <td>商贸街188号</td>\n",
       "      <td>中层</td>\n",
       "      <td>27</td>\n",
       "    </tr>\n",
       "    <tr>\n",
       "      <th>1</th>\n",
       "      <td>商贸公寓</td>\n",
       "      <td></td>\n",
       "      <td>45</td>\n",
       "      <td>12500</td>\n",
       "      <td>'1室1厅'</td>\n",
       "      <td>36</td>\n",
       "      <td>1984</td>\n",
       "      <td>萧山</td>\n",
       "      <td>瓜沥</td>\n",
       "      <td>商贸街188号</td>\n",
       "      <td>高层</td>\n",
       "      <td>6</td>\n",
       "    </tr>\n",
       "    <tr>\n",
       "      <th>2</th>\n",
       "      <td>商贸公寓</td>\n",
       "      <td>'近地铁', '配套成熟', '环境优美'</td>\n",
       "      <td>50</td>\n",
       "      <td>10000</td>\n",
       "      <td>'1室2厅'</td>\n",
       "      <td>50</td>\n",
       "      <td>2016</td>\n",
       "      <td>萧山</td>\n",
       "      <td>瓜沥</td>\n",
       "      <td>商贸街188号</td>\n",
       "      <td>中层</td>\n",
       "      <td>17</td>\n",
       "    </tr>\n",
       "    <tr>\n",
       "      <th>3</th>\n",
       "      <td>商贸公寓</td>\n",
       "      <td></td>\n",
       "      <td>50</td>\n",
       "      <td>10000</td>\n",
       "      <td>'1室1厅'</td>\n",
       "      <td>50</td>\n",
       "      <td>1996</td>\n",
       "      <td>萧山</td>\n",
       "      <td>瓜沥</td>\n",
       "      <td>商贸街188号</td>\n",
       "      <td>中层</td>\n",
       "      <td>6</td>\n",
       "    </tr>\n",
       "    <tr>\n",
       "      <th>4</th>\n",
       "      <td>商贸公寓</td>\n",
       "      <td></td>\n",
       "      <td>45</td>\n",
       "      <td>12500</td>\n",
       "      <td>'1室1厅'</td>\n",
       "      <td>36</td>\n",
       "      <td>1991</td>\n",
       "      <td>萧山</td>\n",
       "      <td>瓜沥</td>\n",
       "      <td>商贸街188号</td>\n",
       "      <td>高层</td>\n",
       "      <td>6</td>\n",
       "    </tr>\n",
       "  </tbody>\n",
       "</table>\n",
       "</div>"
      ],
      "text/plain": [
       "  community_name                   tags price_det price_unit house_type area  \\\n",
       "0           商贸公寓                               45      10000     '1室1厅'   45   \n",
       "1           商贸公寓                               45      12500     '1室1厅'   36   \n",
       "2           商贸公寓  '近地铁', '配套成熟', '环境优美'        50      10000     '1室2厅'   50   \n",
       "3           商贸公寓                               50      10000     '1室1厅'   50   \n",
       "4           商贸公寓                               45      12500     '1室1厅'   36   \n",
       "\n",
       "   year region sub_region    stree floor_heigh floor_num  \n",
       "0  2018     萧山         瓜沥  商贸街188号          中层        27  \n",
       "1  1984     萧山         瓜沥  商贸街188号          高层         6  \n",
       "2  2016     萧山         瓜沥  商贸街188号          中层        17  \n",
       "3  1996     萧山         瓜沥  商贸街188号          中层         6  \n",
       "4  1991     萧山         瓜沥  商贸街188号          高层         6  "
      ]
     },
     "execution_count": 14,
     "metadata": {},
     "output_type": "execute_result"
    }
   ],
   "source": [
    "data_set = data_set.drop(['floor'], axis=1)\n",
    "data_set.head()"
   ]
  },
  {
   "cell_type": "code",
   "execution_count": 15,
   "metadata": {},
   "outputs": [
    {
     "name": "stdout",
     "output_type": "stream",
     "text": [
      "<class 'pandas.core.frame.DataFrame'>\n",
      "Int64Index: 863747 entries, 0 to 873232\n",
      "Data columns (total 12 columns):\n",
      "community_name    863747 non-null object\n",
      "tags              863747 non-null object\n",
      "price_det         863747 non-null float32\n",
      "price_unit        863747 non-null float32\n",
      "house_type        863747 non-null object\n",
      "area              863747 non-null float32\n",
      "year              863747 non-null float32\n",
      "region            863747 non-null object\n",
      "sub_region        863747 non-null object\n",
      "stree             863747 non-null object\n",
      "floor_heigh       766754 non-null object\n",
      "floor_num         863747 non-null float32\n",
      "dtypes: float32(5), object(7)\n",
      "memory usage: 109.2+ MB\n"
     ]
    }
   ],
   "source": [
    "num_cols = ['price_det', 'price_unit', 'area', 'year', 'floor_num']\n",
    "data_set[num_cols] = data_set[num_cols].apply(pd.to_numeric, errors='coerce', downcast='float')\n",
    "data_set.info()"
   ]
  },
  {
   "cell_type": "code",
   "execution_count": 17,
   "metadata": {},
   "outputs": [
    {
     "data": {
      "text/plain": [
       "Text(0.5,1,'杭州各区发布二手房源量分布')"
      ]
     },
     "execution_count": 17,
     "metadata": {},
     "output_type": "execute_result"
    },
    {
     "data": {
      "image/png": "[encoded data removed]",
      "text/plain": [
       "<matplotlib.figure.Figure at 0x253880ed908>"
      ]
     },
     "metadata": {},
     "output_type": "display_data"
    }
   ],
   "source": [
    "import seaborn as sns\n",
    "import matplotlib.pyplot as plt\n",
    "\n",
    "class_col = ['region', 'sub_region', 'floor_heigh', 'house_type']\n",
    "plt.rcParams['font.sans-serif'] = ['SimHei']\n",
    "plt.rcParams['axes.unicode_minus'] = False\n",
    "\n",
    "sns.countplot(y='region', data=data_set)\n",
    "plt.title('杭州各区发布二手房源量分布')\n"
   ]
  },
  {
   "cell_type": "code",
   "execution_count": 18,
   "metadata": {},
   "outputs": [
    {
     "data": {
      "text/plain": [
       "<matplotlib.axes._subplots.AxesSubplot at 0x253453ddba8>"
      ]
     },
     "execution_count": 18,
     "metadata": {},
     "output_type": "execute_result"
    },
    {
     "data": {
      "image/png": "[encoded data removed]",
      "text/plain": [
       "<matplotlib.figure.Figure at 0x253453f7f98>"
      ]
     },
     "metadata": {},
     "output_type": "display_data"
    }
   ],
   "source": [
    "sns.countplot(y='sub_region', data=data_set[data_set['region']=='萧山'])"
   ]
  },
  {
   "cell_type": "code",
   "execution_count": 19,
   "metadata": {},
   "outputs": [
    {
     "data": {
      "text/plain": [
       "['萧山',\n",
       " '滨江',\n",
       " '西湖',\n",
       " '临安',\n",
       " '余杭',\n",
       " '江干',\n",
       " '拱墅',\n",
       " '上城',\n",
       " '富阳',\n",
       " '下城',\n",
       " '桐庐',\n",
       " '淳安',\n",
       " '建德',\n",
       " '杭州周边']"
      ]
     },
     "execution_count": 19,
     "metadata": {},
     "output_type": "execute_result"
    }
   ],
   "source": [
    "region_name = list(data_set['region'].unique())\n",
    "region_name"
   ]
  },
  {
   "cell_type": "code",
   "execution_count": 20,
   "metadata": {
    "scrolled": true
   },
   "outputs": [
    {
     "data": {
      "image/png": "[encoded data removed]",
      "text/plain": [
       "<matplotlib.figure.Figure at 0x2533fd60da0>"
      ]
     },
     "metadata": {},
     "output_type": "display_data"
    },
    {
     "data": {
      "image/png": "[encoded data removed]",
      "text/plain": [
       "<matplotlib.figure.Figure at 0x253146a8b00>"
      ]
     },
     "metadata": {},
     "output_type": "display_data"
    },
    {
     "data": {
      "image/png": "[encoded data removed]",
      "text/plain": [
       "<matplotlib.figure.Figure at 0x253146f7be0>"
      ]
     },
     "metadata": {},
     "output_type": "display_data"
    },
    {
     "data": {
      "image/png": "[encoded data removed]",
      "text/plain": [
       "<matplotlib.figure.Figure at 0x2531480f208>"
      ]
     },
     "metadata": {},
     "output_type": "display_data"
    },
    {
     "data": {
      "image/png": "[encoded data removed]",
      "text/plain": [
       "<matplotlib.figure.Figure at 0x2533b220550>"
      ]
     },
     "metadata": {},
     "output_type": "display_data"
    },
    {
     "data": {
      "image/png": "[encoded data removed]",
      "text/plain": [
       "<matplotlib.figure.Figure at 0x2533b232be0>"
      ]
     },
     "metadata": {},
     "output_type": "display_data"
    },
    {
     "data": {
      "image/png": "[encoded data removed]",
      "text/plain": [
       "<matplotlib.figure.Figure at 0x2533b2ff2e8>"
      ]
     },
     "metadata": {},
     "output_type": "display_data"
    }
   ],
   "source": [
    "\n",
    "for i in range(0, len(region_name), 2):\n",
    "    f, ax = plt.subplots(1, 2, figsize=(16, 8))\n",
    "    sns.countplot(y='sub_region', data=data_set[data_set['region']==region_name[i]], ax=ax[0])\n",
    "    ax[0].set_title('%s 区下二级地区的房源分布' % region_name[i])\n",
    "    m = i\n",
    "    sns.countplot(y='sub_region', data=data_set[data_set['region']==region_name[m+1]], ax=ax[1])\n",
    "    ax[1].set_title('%s 区下二级地区的房源分布' % region_name[m+1])"
   ]
  },
  {
   "cell_type": "code",
   "execution_count": 21,
   "metadata": {},
   "outputs": [
    {
     "data": {
      "text/html": [
       "<div>\n",
       "<style scoped>\n",
       "    .dataframe tbody tr th:only-of-type {\n",
       "        vertical-align: middle;\n",
       "    }\n",
       "\n",
       "    .dataframe tbody tr th {\n",
       "        vertical-align: top;\n",
       "    }\n",
       "\n",
       "    .dataframe thead th {\n",
       "        text-align: right;\n",
       "    }\n",
       "</style>\n",
       "<table border=\"1\" class=\"dataframe\">\n",
       "  <thead>\n",
       "    <tr style=\"text-align: right;\">\n",
       "      <th></th>\n",
       "      <th>price_det</th>\n",
       "      <th>price_unit</th>\n",
       "      <th>area</th>\n",
       "      <th>year</th>\n",
       "      <th>floor_num</th>\n",
       "    </tr>\n",
       "  </thead>\n",
       "  <tbody>\n",
       "    <tr>\n",
       "      <th>count</th>\n",
       "      <td>863747.000000</td>\n",
       "      <td>863747.000000</td>\n",
       "      <td>863747.000000</td>\n",
       "      <td>863747.000000</td>\n",
       "      <td>863747.000000</td>\n",
       "    </tr>\n",
       "    <tr>\n",
       "      <th>mean</th>\n",
       "      <td>298.631409</td>\n",
       "      <td>28281.292969</td>\n",
       "      <td>102.314774</td>\n",
       "      <td>2019.532837</td>\n",
       "      <td>15.192500</td>\n",
       "    </tr>\n",
       "    <tr>\n",
       "      <th>std</th>\n",
       "      <td>367.421814</td>\n",
       "      <td>13500.630859</td>\n",
       "      <td>67.545311</td>\n",
       "      <td>23.387331</td>\n",
       "      <td>9.363779</td>\n",
       "    </tr>\n",
       "    <tr>\n",
       "      <th>min</th>\n",
       "      <td>8.000000</td>\n",
       "      <td>1607.000000</td>\n",
       "      <td>10.000000</td>\n",
       "      <td>147.000000</td>\n",
       "      <td>1.000000</td>\n",
       "    </tr>\n",
       "    <tr>\n",
       "      <th>25%</th>\n",
       "      <td>150.000000</td>\n",
       "      <td>19411.000000</td>\n",
       "      <td>64.000000</td>\n",
       "      <td>2007.000000</td>\n",
       "      <td>7.000000</td>\n",
       "    </tr>\n",
       "    <tr>\n",
       "      <th>50%</th>\n",
       "      <td>229.000000</td>\n",
       "      <td>25925.000000</td>\n",
       "      <td>89.000000</td>\n",
       "      <td>2012.000000</td>\n",
       "      <td>15.000000</td>\n",
       "    </tr>\n",
       "    <tr>\n",
       "      <th>75%</th>\n",
       "      <td>340.000000</td>\n",
       "      <td>35133.500000</td>\n",
       "      <td>120.000000</td>\n",
       "      <td>2015.000000</td>\n",
       "      <td>21.000000</td>\n",
       "    </tr>\n",
       "    <tr>\n",
       "      <th>max</th>\n",
       "      <td>20000.000000</td>\n",
       "      <td>304114.000000</td>\n",
       "      <td>3870.000000</td>\n",
       "      <td>2021.000000</td>\n",
       "      <td>99.000000</td>\n",
       "    </tr>\n",
       "  </tbody>\n",
       "</table>\n",
       "</div>"
      ],
      "text/plain": [
       "           price_det     price_unit           area           year  \\\n",
       "count  863747.000000  863747.000000  863747.000000  863747.000000   \n",
       "mean      298.631409   28281.292969     102.314774    2019.532837   \n",
       "std       367.421814   13500.630859      67.545311      23.387331   \n",
       "min         8.000000    1607.000000      10.000000     147.000000   \n",
       "25%       150.000000   19411.000000      64.000000    2007.000000   \n",
       "50%       229.000000   25925.000000      89.000000    2012.000000   \n",
       "75%       340.000000   35133.500000     120.000000    2015.000000   \n",
       "max     20000.000000  304114.000000    3870.000000    2021.000000   \n",
       "\n",
       "           floor_num  \n",
       "count  863747.000000  \n",
       "mean       15.192500  \n",
       "std         9.363779  \n",
       "min         1.000000  \n",
       "25%         7.000000  \n",
       "50%        15.000000  \n",
       "75%        21.000000  \n",
       "max        99.000000  "
      ]
     },
     "execution_count": 21,
     "metadata": {},
     "output_type": "execute_result"
    }
   ],
   "source": [
    "data_set.describe()"
   ]
  },
  {
   "cell_type": "code",
   "execution_count": 22,
   "metadata": {
    "scrolled": true
   },
   "outputs": [
    {
     "data": {
      "text/plain": [
       "[147.0,\n",
       " 1900.0,\n",
       " 1902.0,\n",
       " 1903.0,\n",
       " 1904.0,\n",
       " 1905.0,\n",
       " 1912.0,\n",
       " 1916.0,\n",
       " 1925.0,\n",
       " 1930.0,\n",
       " 1944.0,\n",
       " 1948.0,\n",
       " 1950.0,\n",
       " 1955.0,\n",
       " 1960.0,\n",
       " 1965.0,\n",
       " 1967.0,\n",
       " 1968.0,\n",
       " 1970.0,\n",
       " 1971.0,\n",
       " 1972.0,\n",
       " 1974.0,\n",
       " 1975.0,\n",
       " 1976.0,\n",
       " 1977.0,\n",
       " 1978.0,\n",
       " 1979.0,\n",
       " 1980.0,\n",
       " 1981.0,\n",
       " 1982.0,\n",
       " 1983.0,\n",
       " 1984.0,\n",
       " 1985.0,\n",
       " 1986.0,\n",
       " 1987.0,\n",
       " 1988.0,\n",
       " 1989.0,\n",
       " 1990.0,\n",
       " 1991.0,\n",
       " 1992.0,\n",
       " 1993.0,\n",
       " 1994.0,\n",
       " 1995.0,\n",
       " 1996.0,\n",
       " 1997.0,\n",
       " 1998.0,\n",
       " 1999.0,\n",
       " 2000.0,\n",
       " 2001.0,\n",
       " 2002.0,\n",
       " 2003.0,\n",
       " 2004.0,\n",
       " 2005.0,\n",
       " 2006.0,\n",
       " 2007.0,\n",
       " 2008.0,\n",
       " 2009.0,\n",
       " 2010.0,\n",
       " 2011.0,\n",
       " 2012.0,\n",
       " 2013.0,\n",
       " 2014.0,\n",
       " 2015.0,\n",
       " 2016.0,\n",
       " 2017.0,\n",
       " 2018.0,\n",
       " 2019.0,\n",
       " 2020.0,\n",
       " 2021.0]"
      ]
     },
     "execution_count": 22,
     "metadata": {},
     "output_type": "execute_result"
    }
   ],
   "source": [
    "years = list(data_set['year'].unique())\n",
    "years.sort()\n",
    "years"
   ]
  },
  {
   "cell_type": "code",
   "execution_count": 23,
   "metadata": {
    "scrolled": false
   },
   "outputs": [
    {
     "data": {
      "text/plain": [
       "180"
      ]
     },
     "execution_count": 23,
     "metadata": {},
     "output_type": "execute_result"
    }
   ],
   "source": [
    "len(data_set.loc[(data_set['year']>2018)])"
   ]
  },
  {
   "cell_type": "code",
   "execution_count": 24,
   "metadata": {},
   "outputs": [
    {
     "data": {
      "text/plain": [
       "97"
      ]
     },
     "execution_count": 24,
     "metadata": {},
     "output_type": "execute_result"
    }
   ],
   "source": [
    "len(data_set.loc[(data_set['year']<1900)])"
   ]
  },
  {
   "cell_type": "code",
   "execution_count": 25,
   "metadata": {},
   "outputs": [
    {
     "data": {
      "text/plain": [
       "863747"
      ]
     },
     "execution_count": 25,
     "metadata": {},
     "output_type": "execute_result"
    }
   ],
   "source": [
    "len(data_set)"
   ]
  },
  {
   "cell_type": "code",
   "execution_count": 26,
   "metadata": {},
   "outputs": [],
   "source": [
    "data_set = data_set.loc[(data_set['year']<2019) & (data_set['year']>1899)]"
   ]
  },
  {
   "cell_type": "code",
   "execution_count": 27,
   "metadata": {
    "scrolled": true
   },
   "outputs": [
    {
     "data": {
      "text/plain": [
       "[1900.0,\n",
       " 1902.0,\n",
       " 1903.0,\n",
       " 1904.0,\n",
       " 1905.0,\n",
       " 1912.0,\n",
       " 1916.0,\n",
       " 1925.0,\n",
       " 1930.0,\n",
       " 1944.0,\n",
       " 1948.0,\n",
       " 1950.0,\n",
       " 1955.0,\n",
       " 1960.0,\n",
       " 1965.0,\n",
       " 1967.0,\n",
       " 1968.0,\n",
       " 1970.0,\n",
       " 1971.0,\n",
       " 1972.0,\n",
       " 1974.0,\n",
       " 1975.0,\n",
       " 1976.0,\n",
       " 1977.0,\n",
       " 1978.0,\n",
       " 1979.0,\n",
       " 1980.0,\n",
       " 1981.0,\n",
       " 1982.0,\n",
       " 1983.0,\n",
       " 1984.0,\n",
       " 1985.0,\n",
       " 1986.0,\n",
       " 1987.0,\n",
       " 1988.0,\n",
       " 1989.0,\n",
       " 1990.0,\n",
       " 1991.0,\n",
       " 1992.0,\n",
       " 1993.0,\n",
       " 1994.0,\n",
       " 1995.0,\n",
       " 1996.0,\n",
       " 1997.0,\n",
       " 1998.0,\n",
       " 1999.0,\n",
       " 2000.0,\n",
       " 2001.0,\n",
       " 2002.0,\n",
       " 2003.0,\n",
       " 2004.0,\n",
       " 2005.0,\n",
       " 2006.0,\n",
       " 2007.0,\n",
       " 2008.0,\n",
       " 2009.0,\n",
       " 2010.0,\n",
       " 2011.0,\n",
       " 2012.0,\n",
       " 2013.0,\n",
       " 2014.0,\n",
       " 2015.0,\n",
       " 2016.0,\n",
       " 2017.0,\n",
       " 2018.0]"
      ]
     },
     "execution_count": 27,
     "metadata": {},
     "output_type": "execute_result"
    }
   ],
   "source": [
    "years = list(data_set['year'].unique())\n",
    "years.sort()\n",
    "years"
   ]
  },
  {
   "cell_type": "code",
   "execution_count": 28,
   "metadata": {},
   "outputs": [
    {
     "data": {
      "text/plain": [
       "<matplotlib.axes._subplots.AxesSubplot at 0x2533d687e80>"
      ]
     },
     "execution_count": 28,
     "metadata": {},
     "output_type": "execute_result"
    },
    {
     "data": {
      "image/png": "[encoded data removed]",
      "text/plain": [
       "<matplotlib.figure.Figure at 0x2533b5590f0>"
      ]
     },
     "metadata": {},
     "output_type": "display_data"
    }
   ],
   "source": [
    "sns.distplot(data_set.year)"
   ]
  },
  {
   "cell_type": "code",
   "execution_count": 29,
   "metadata": {},
   "outputs": [
    {
     "data": {
      "text/plain": [
       "<matplotlib.axes._subplots.AxesSubplot at 0x2533b67ba90>"
      ]
     },
     "execution_count": 29,
     "metadata": {},
     "output_type": "execute_result"
    },
    {
     "data": {
      "image/png": "[encoded data removed]",
      "text/plain": [
       "<matplotlib.figure.Figure at 0x2533b538978>"
      ]
     },
     "metadata": {},
     "output_type": "display_data"
    }
   ],
   "source": [
    "sns.distplot(data_set[data_set.year > 1980].year)"
   ]
  },
  {
   "cell_type": "code",
   "execution_count": 30,
   "metadata": {},
   "outputs": [
    {
     "data": {
      "text/plain": [
       "<matplotlib.axes._subplots.AxesSubplot at 0x2533b651828>"
      ]
     },
     "execution_count": 30,
     "metadata": {},
     "output_type": "execute_result"
    },
    {
     "data": {
      "image/png": "[encoded data removed]",
      "text/plain": [
       "<matplotlib.figure.Figure at 0x2533fd9d518>"
      ]
     },
     "metadata": {},
     "output_type": "display_data"
    }
   ],
   "source": [
    "sns.countplot(y='year', data=data_set[data_set.year >= 2000])"
   ]
  },
  {
   "cell_type": "code",
   "execution_count": 31,
   "metadata": {},
   "outputs": [
    {
     "data": {
      "text/plain": [
       "<matplotlib.axes._subplots.AxesSubplot at 0x2533b89f4e0>"
      ]
     },
     "execution_count": 31,
     "metadata": {},
     "output_type": "execute_result"
    },
    {
     "data": {
      "image/png": "[encoded data removed]",
      "text/plain": [
       "<matplotlib.figure.Figure at 0x2533bda3dd8>"
      ]
     },
     "metadata": {},
     "output_type": "display_data"
    }
   ],
   "source": [
    "sns.countplot(y='year', data=data_set[(data_set.year > 1980) & (data_set.year < 2000)])"
   ]
  },
  {
   "cell_type": "code",
   "execution_count": 32,
   "metadata": {},
   "outputs": [
    {
     "data": {
      "text/plain": [
       "<matplotlib.axes._subplots.AxesSubplot at 0x2533b55fa58>"
      ]
     },
     "execution_count": 32,
     "metadata": {},
     "output_type": "execute_result"
    },
    {
     "data": {
      "image/png": "[encoded data removed]",
      "text/plain": [
       "<matplotlib.figure.Figure at 0x2533b99b9b0>"
      ]
     },
     "metadata": {},
     "output_type": "display_data"
    }
   ],
   "source": [
    "sns.countplot(y='year', data=data_set[data_set.year < 1980])"
   ]
  },
  {
   "cell_type": "code",
   "execution_count": null,
   "metadata": {},
   "outputs": [],
   "source": [
    "data_set.head()"
   ]
  },
  {
   "cell_type": "code",
   "execution_count": 33,
   "metadata": {
    "scrolled": true
   },
   "outputs": [
    {
     "data": {
      "text/plain": [
       "<matplotlib.axes._subplots.AxesSubplot at 0x2533b634240>"
      ]
     },
     "execution_count": 33,
     "metadata": {},
     "output_type": "execute_result"
    },
    {
     "data": {
      "image/png": "[encoded data removed]",
      "text/plain": [
       "<matplotlib.figure.Figure at 0x2533b59deb8>"
      ]
     },
     "metadata": {},
     "output_type": "display_data"
    }
   ],
   "source": [
    "sns.countplot('floor_heigh', data=data_set)"
   ]
  },
  {
   "cell_type": "code",
   "execution_count": 35,
   "metadata": {},
   "outputs": [
    {
     "data": {
      "text/plain": [
       "<matplotlib.axes._subplots.AxesSubplot at 0x2533bce8668>"
      ]
     },
     "execution_count": 35,
     "metadata": {},
     "output_type": "execute_result"
    },
    {
     "data": {
      "image/png": "[encoded data removed]",
      "text/plain": [
       "<matplotlib.figure.Figure at 0x2533bcfb5f8>"
      ]
     },
     "metadata": {},
     "output_type": "display_data"
    }
   ],
   "source": [
    "sns.distplot(data_set.floor_num)"
   ]
  }
 ],
 "metadata": {
  "kernelspec": {
   "display_name": "Python 3",
   "language": "python",
   "name": "python3"
  },
  "language_info": {
   "codemirror_mode": {
    "name": "ipython",
    "version": 3
   },
   "file_extension": ".py",
   "mimetype": "text/x-python",
   "name": "python",
   "nbconvert_exporter": "python",
   "pygments_lexer": "ipython3",
   "version": "3.6.4"
  }
 },
 "nbformat": 4,
 "nbformat_minor": 1
}
